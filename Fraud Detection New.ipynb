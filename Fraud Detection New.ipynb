{
 "cells": [
  {
   "cell_type": "markdown",
   "metadata": {},
   "source": [
    "# Fraud Detection Project\n",
    "### Ali Ebrahimi"
   ]
  },
  {
   "cell_type": "markdown",
   "metadata": {},
   "source": [
    "## Part 1 : Reading Data"
   ]
  },
  {
   "cell_type": "code",
   "execution_count": null,
   "metadata": {},
   "outputs": [],
   "source": [
    "import numpy as np\n",
    "import pandas as pd\n",
    "import matplotlib.pyplot as plt\n",
    "import seaborn as sns\n",
    "\n",
    "DF_Fraud = pd.read_csv('C:/Users/Ali/Desktop/UOttawa/Job/Interview/BrainFinance/data_scientist_exercise-master/fraud_prep.csv', sep= ',')\n",
    "\n",
    "X = DF_Fraud.iloc[:, 0:-1]\n",
    "X = np.array(X).astype(np.float)\n",
    "y = DF_Fraud.iloc[:, -1]\n",
    "y=np.array(y).astype(np.float)\n",
    "\n",
    "class_names = {0:'Not Fraud', 1:'Fraud'}\n",
    "print(DF_Fraud.Class.value_counts().rename(index = class_names))\n",
    "\n",
    "DF_Fraud.describe()"
   ]
  },
  {
   "cell_type": "markdown",
   "metadata": {},
   "source": [
    "## Part 2 : Visualizing Dataset"
   ]
  },
  {
   "cell_type": "markdown",
   "metadata": {},
   "source": [
    "### Distributions"
   ]
  },
  {
   "cell_type": "code",
   "execution_count": null,
   "metadata": {},
   "outputs": [],
   "source": [
    "DF_Fraud.hist(figsize=(20,20))\n",
    "plt.show()"
   ]
  },
  {
   "cell_type": "markdown",
   "metadata": {},
   "source": [
    "### Class"
   ]
  },
  {
   "cell_type": "code",
   "execution_count": null,
   "metadata": {},
   "outputs": [],
   "source": [
    "plt.scatter(X[y == 0, 0], X[y == 0, 1], label=\"Not Fraud\")\n",
    "plt.scatter(X[y == 1, 0], X[y == 1, 1], label=\"Fraud\", c='r')\n",
    "plt.legend()\n",
    "plt.show()"
   ]
  },
  {
   "cell_type": "markdown",
   "metadata": {},
   "source": [
    "## Part 3 : Standardization Time & Amount, Resampleing (Synthetic Minority Over-sampling Technique (SMOTE)) & Visualizing Distributions"
   ]
  },
  {
   "cell_type": "code",
   "execution_count": null,
   "metadata": {},
   "outputs": [],
   "source": [
    "from sklearn.preprocessing import StandardScaler\n",
    "#from sklearn.preprocessing import Normalizer\n",
    "\n",
    "#data_norm = DF_Fraud.copy() \n",
    "DF_Fraud[['Time','Amount']] = StandardScaler().fit_transform(DF_Fraud[['Time','Amount']])\n",
    "DF_Fraud.describe()"
   ]
  },
  {
   "cell_type": "code",
   "execution_count": null,
   "metadata": {},
   "outputs": [],
   "source": [
    "from imblearn.over_sampling import SMOTE\n",
    "\n",
    "Resmpl = SMOTE(kind='regular')\n",
    "X_Resmpl, y_Resmpl = Resmpl.fit_sample(X,y)\n",
    "plt.scatter(X_Resmpl[y_Resmpl == 0, 0], X_Resmpl[y_Resmpl == 0, 1], label=\"Not Fraud\")\n",
    "plt.scatter(X_Resmpl[y_Resmpl == 1, 0], X_Resmpl[y_Resmpl == 1, 1], label=\"Fraud\",c='r')\n",
    "plt.legend()\n",
    "plt.show()\n",
    "print(pd.value_counts(pd.Series(y_Resmpl)))\n",
    "print(pd.value_counts(pd.Series(y)))"
   ]
  },
  {
   "cell_type": "code",
   "execution_count": null,
   "metadata": {},
   "outputs": [],
   "source": [
    "DF_Fraud.hist(figsize=(20,20))\n",
    "plt.show()"
   ]
  },
  {
   "cell_type": "code",
   "execution_count": null,
   "metadata": {},
   "outputs": [],
   "source": [
    "corr = DF_Fraud.corr().sort_values('Class', ascending=False)\n",
    "correlation = corr[['Class']]\n",
    "plt.figure(figsize=(12,20))\n",
    "sns.heatmap(data=correlation,annot=True)\n",
    "plt.title('Heatmap of Correlation')"
   ]
  },
  {
   "cell_type": "markdown",
   "metadata": {},
   "source": [
    "## Part 4: Dimetion Reduction"
   ]
  },
  {
   "cell_type": "code",
   "execution_count": null,
   "metadata": {},
   "outputs": [],
   "source": [
    "from sklearn.decomposition import PCA\n",
    "\n",
    "pca = PCA(n_components=2)\n",
    "pca_result = pca.fit_transform(DF_Fraud)\n",
    "DF_Fraud['Pca-one'] = pca_result[:,0]\n",
    "DF_Fraud['Pca-two'] = pca_result[:,1] \n",
    "\n",
    "import matplotlib.pyplot as plt\n",
    "import seaborn as sns\n",
    "\n",
    "plt.figure(figsize=(16,10))\n",
    "\n",
    "sns.scatterplot(\n",
    "    x=\"Pca-one\", y=\"Pca-two\",\n",
    "    hue=\"Class\",\n",
    "    data=DF_Fraud,\n",
    "    legend=\"full\",\n",
    "    alpha=0.3)\n",
    "plt.show()"
   ]
  },
  {
   "cell_type": "markdown",
   "metadata": {},
   "source": [
    "## Part 5: Spilitting Test & Train"
   ]
  },
  {
   "cell_type": "code",
   "execution_count": null,
   "metadata": {},
   "outputs": [],
   "source": [
    "X = DF_Fraud.iloc[:, 0:-3]\n",
    "y = DF_Fraud.iloc[:, -3]\n",
    "\n",
    "from sklearn.model_selection import train_test_split\n",
    "X_train, X_test, y_train, y_test = train_test_split(X , y ,train_size=0.70, test_size=0.30, random_state=0)"
   ]
  },
  {
   "cell_type": "markdown",
   "metadata": {},
   "source": [
    "## Part 6: Machine Learning Methods"
   ]
  },
  {
   "cell_type": "markdown",
   "metadata": {},
   "source": [
    "### A - Supervised Learning"
   ]
  },
  {
   "cell_type": "markdown",
   "metadata": {},
   "source": [
    "#### 6-1: KFold & Resampleing (Synthetic Minority Over-sampling Technique (SMOTE))"
   ]
  },
  {
   "cell_type": "code",
   "execution_count": null,
   "metadata": {},
   "outputs": [],
   "source": [
    "from sklearn.model_selection import KFold\n",
    "from sklearn.model_selection import cross_val_score\n",
    "from sklearn.metrics import confusion_matrix\n",
    "from sklearn.metrics import classification_report\n",
    "from sklearn.metrics import roc_auc_score\n",
    "from sklearn.metrics import roc_curve\n",
    "from imblearn.over_sampling import SMOTE\n",
    "\n",
    "Spilit = 10\n",
    "\n",
    "kfold = KFold(n_splits=Spilit, random_state=123, shuffle = True)\n",
    "\n",
    "results=[]\n",
    "names=[]"
   ]
  },
  {
   "cell_type": "markdown",
   "metadata": {},
   "source": [
    "#### 6-2: Logistic Regression"
   ]
  },
  {
   "cell_type": "markdown",
   "metadata": {},
   "source": [
    "##### Cross Validation"
   ]
  },
  {
   "cell_type": "code",
   "execution_count": null,
   "metadata": {},
   "outputs": [],
   "source": [
    "from sklearn.linear_model import LogisticRegression\n",
    "LR = LogisticRegression()\n",
    "LR_CV = cross_val_score(LR, X_Resmpl, y_Resmpl, cv=kfold, scoring='roc_auc')\n",
    "results.append(LR_CV)\n",
    "names.append('Logistic Regression')\n",
    "LR_CV.mean()"
   ]
  },
  {
   "cell_type": "markdown",
   "metadata": {},
   "source": [
    "##### Confusion Matrix"
   ]
  },
  {
   "cell_type": "code",
   "execution_count": null,
   "metadata": {},
   "outputs": [],
   "source": [
    "LR.fit(X_Resmpl, y_Resmpl)\n",
    "LR_Predict = LR.predict(X_test)\n",
    "\n",
    "class_names = ['Not_Fraud', 'Fraud']\n",
    "matrix = confusion_matrix(y_test, LR_Predict)\n",
    "dataframe = pd.DataFrame(matrix, index=class_names, columns=class_names)\n",
    "sns.heatmap(dataframe, annot=True, cbar=None, cmap=\"Blues\", fmt = 'g')\n",
    "plt.title(\"Confusion Matrix\"), plt.tight_layout()\n",
    "plt.ylabel(\"True Class\"), plt.xlabel(\"Predicted Class\")\n",
    "plt.show()\n",
    "\n",
    "print(classification_report(y_test, LR_Predict, target_names=class_names))\n",
    "\n",
    "TP=matrix[1,1]\n",
    "TN=matrix[0,0]\n",
    "FP=matrix[0,1]\n",
    "FN=matrix[1,0]\n",
    "acc = (TP+TN)/(TP+FP+TN+FN)\n",
    "rec = TP/(TP+FN)\n",
    "spe = TN/(TN+FP)\n",
    "pre = TP/(TP+FP)\n",
    "\n",
    "print(\"Accuracy: %.3f\" % (acc))\n",
    "print(\"Sensitivity (Recall): %.3f\" % (rec))\n",
    "print(\"Specificity: %.3f\" % (spe))\n",
    "print(\"Precision: %.3f\" % (pre))"
   ]
  },
  {
   "cell_type": "markdown",
   "metadata": {},
   "source": [
    "#### 6-3: KNN"
   ]
  },
  {
   "cell_type": "code",
   "execution_count": null,
   "metadata": {},
   "outputs": [],
   "source": [
    "from sklearn.neighbors import KNeighborsClassifier\n",
    "KNN = KNeighborsClassifier()\n",
    "KNN_CV = cross_val_score(KNN, X_Resmpl, y_Resmpl, cv=kfold, scoring='roc_auc')\n",
    "results.append(KNN_CV)\n",
    "names.append('KNN')\n",
    "KNN_CV.mean()"
   ]
  },
  {
   "cell_type": "markdown",
   "metadata": {},
   "source": [
    "##### Confusion Matrix"
   ]
  },
  {
   "cell_type": "code",
   "execution_count": null,
   "metadata": {},
   "outputs": [],
   "source": [
    "KNN.fit(X_Resmpl, y_Resmpl)\n",
    "KNN_Predict = KNN.predict(X_test)\n",
    "\n",
    "class_names = ['Not_Fraud', 'Fraud']\n",
    "matrix = confusion_matrix(y_test, KNN_Predict)\n",
    "dataframe = pd.DataFrame(matrix, index=class_names, columns=class_names)\n",
    "sns.heatmap(dataframe, annot=True, cbar=None, cmap=\"Blues\", fmt = 'g')\n",
    "plt.title(\"Confusion Matrix\"), plt.tight_layout()\n",
    "plt.ylabel(\"True Class\"), plt.xlabel(\"Predicted Class\")\n",
    "plt.show()\n",
    "\n",
    "print(classification_report(y_test, KNN_Predict, target_names=class_names))\n",
    "\n",
    "TP=matrix[1,1]\n",
    "TN=matrix[0,0]\n",
    "FP=matrix[0,1]\n",
    "FN=matrix[1,0]\n",
    "acc = (TP+TN)/(TP+FP+TN+FN)\n",
    "rec = TP/(TP+FN)\n",
    "spe = TN/(TN+FP)\n",
    "pre = TP/(TP+FP)\n",
    "\n",
    "print(\"Accuracy: %.3f\" % (acc))\n",
    "print(\"Sensitivity (Recall): %.3f\" % (rec))\n",
    "print(\"Specificity: %.3f\" % (spe))\n",
    "print(\"Precision: %.3f\" % (pre))"
   ]
  },
  {
   "cell_type": "markdown",
   "metadata": {},
   "source": [
    "#### 6-4: Decision Tree"
   ]
  },
  {
   "cell_type": "markdown",
   "metadata": {},
   "source": [
    "##### Cross Validation"
   ]
  },
  {
   "cell_type": "code",
   "execution_count": null,
   "metadata": {},
   "outputs": [],
   "source": [
    "from sklearn.tree import DecisionTreeClassifier\n",
    "CART = DecisionTreeClassifier()\n",
    "CART_CV = cross_val_score(CART, X_Resmpl, y_Resmpl, cv=kfold, scoring='roc_auc')\n",
    "results.append(CART_CV)\n",
    "names.append('Decision Tree')\n",
    "CART_CV.mean()"
   ]
  },
  {
   "cell_type": "markdown",
   "metadata": {},
   "source": [
    "##### Confusion Matrix\n"
   ]
  },
  {
   "cell_type": "code",
   "execution_count": null,
   "metadata": {},
   "outputs": [],
   "source": [
    "CART.fit(X_Resmpl, y_Resmpl)\n",
    "CART_Predict = CART.predict(X_test)\n",
    "\n",
    "class_names = ['Not_Fraud', 'Fraud']\n",
    "matrix = confusion_matrix(y_test, CART_Predict)\n",
    "dataframe = pd.DataFrame(matrix, index=class_names, columns=class_names)\n",
    "sns.heatmap(dataframe, annot=True, cbar=None, cmap=\"Blues\", fmt = 'g')\n",
    "plt.title(\"Confusion Matrix\"), plt.tight_layout()\n",
    "plt.ylabel(\"True Class\"), plt.xlabel(\"Predicted Class\")\n",
    "plt.show()\n",
    "\n",
    "print(classification_report(y_test, CART_Predict, target_names=class_names))\n",
    "\n",
    "TP=matrix[1,1]\n",
    "TN=matrix[0,0]\n",
    "FP=matrix[0,1]\n",
    "FN=matrix[1,0]\n",
    "acc = (TP+TN)/(TP+FP+TN+FN)\n",
    "rec = TP/(TP+FN)\n",
    "spe = TN/(TN+FP)\n",
    "pre = TP/(TP+FP)\n",
    "\n",
    "print(\"Accuracy: %.3f\" % (acc))\n",
    "print(\"Sensitivity (Recall): %.3f\" % (rec))\n",
    "print(\"Specificity: %.3f\" % (spe))\n",
    "print(\"Precision: %.3f\" % (pre))"
   ]
  },
  {
   "cell_type": "markdown",
   "metadata": {},
   "source": [
    "#### 6-5: SVC"
   ]
  },
  {
   "cell_type": "markdown",
   "metadata": {},
   "source": [
    "##### Cross Validation"
   ]
  },
  {
   "cell_type": "code",
   "execution_count": null,
   "metadata": {},
   "outputs": [],
   "source": [
    "from sklearn.svm import SVC\n",
    "SVM = SVC()\n",
    "\n",
    "kfold_SVM = KFold(n_splits=3, random_state=123, shuffle = True)\n",
    "\n",
    "SVM_CV = cross_val_score(SVM, X_Resmpl, y_Resmpl, cv=kfold_SVM, scoring='roc_auc')\n",
    "results.append(SVM_CV)\n",
    "names.append('SVC')\n",
    "SVM_CV.mean()"
   ]
  },
  {
   "cell_type": "markdown",
   "metadata": {},
   "source": [
    "##### Confusion Matrix\n"
   ]
  },
  {
   "cell_type": "code",
   "execution_count": null,
   "metadata": {},
   "outputs": [],
   "source": [
    "SVM.fit(X_Resmpl, y_Resmpl)\n",
    "SVM_Predict = SVM.predict(X_test)\n",
    "\n",
    "class_names = ['Not_Fraud', 'Fraud']\n",
    "matrix = confusion_matrix(y_test, SVM_Predict)\n",
    "dataframe = pd.DataFrame(matrix, index=class_names, columns=class_names)\n",
    "sns.heatmap(dataframe, annot=True, cbar=None, cmap=\"Blues\", fmt = 'g')\n",
    "plt.title(\"Confusion Matrix\"), plt.tight_layout()\n",
    "plt.ylabel(\"True Class\"), plt.xlabel(\"Predicted Class\")\n",
    "plt.show()\n",
    "\n",
    "print(classification_report(y_test, SVM_Predict, target_names=class_names))\n",
    "\n",
    "TP=matrix[1,1]\n",
    "TN=matrix[0,0]\n",
    "FP=matrix[0,1]\n",
    "FN=matrix[1,0]\n",
    "acc = (TP+TN)/(TP+FP+TN+FN)\n",
    "rec = TP/(TP+FN)\n",
    "spe = TN/(TN+FP)\n",
    "pre = TP/(TP+FP)\n",
    "\n",
    "print(\"Accuracy: %.3f\" % (acc))\n",
    "print(\"Sensitivity (Recall): %.3f\" % (rec))\n",
    "print(\"Specificity: %.3f\" % (spe))\n",
    "print(\"Precision: %.3f\" % (pre))"
   ]
  },
  {
   "cell_type": "markdown",
   "metadata": {},
   "source": [
    "#### 6-6: Random Forest"
   ]
  },
  {
   "cell_type": "markdown",
   "metadata": {},
   "source": [
    "##### Cross Validation"
   ]
  },
  {
   "cell_type": "code",
   "execution_count": null,
   "metadata": {},
   "outputs": [],
   "source": [
    "from sklearn.ensemble import RandomForestClassifier\n",
    "RF = RandomForestClassifier()\n",
    "RF_CV = cross_val_score(RF, X_Resmpl, y_Resmpl, cv=kfold, scoring='roc_auc')\n",
    "results.append(RF_CV)\n",
    "names.append('Random Forest')\n",
    "RF_CV.mean()"
   ]
  },
  {
   "cell_type": "markdown",
   "metadata": {},
   "source": [
    "##### Confusion Matrix"
   ]
  },
  {
   "cell_type": "code",
   "execution_count": null,
   "metadata": {},
   "outputs": [],
   "source": [
    "RF.fit(X_Resmpl, y_Resmpl)\n",
    "RF_Predict = RF.predict(X_test)\n",
    "\n",
    "class_names = ['Not_Fraud', 'Fraud']\n",
    "matrix = confusion_matrix(y_test, RF_Predict)\n",
    "dataframe = pd.DataFrame(matrix, index=class_names, columns=class_names)\n",
    "sns.heatmap(dataframe, annot=True, cbar=None, cmap=\"Blues\", fmt = 'g')\n",
    "plt.title(\"Confusion Matrix\"), plt.tight_layout()\n",
    "plt.ylabel(\"True Class\"), plt.xlabel(\"Predicted Class\")\n",
    "plt.show()\n",
    "\n",
    "print(classification_report(y_test, RF_Predict, target_names=class_names))\n",
    "\n",
    "TP=matrix[1,1]\n",
    "TN=matrix[0,0]\n",
    "FP=matrix[0,1]\n",
    "FN=matrix[1,0]\n",
    "acc = (TP+TN)/(TP+FP+TN+FN)\n",
    "rec = TP/(TP+FN)\n",
    "spe = TN/(TN+FP)\n",
    "pre = TP/(TP+FP)\n",
    "\n",
    "print(\"Accuracy: %.3f\" % (acc))\n",
    "print(\"Sensitivity (Recall): %.3f\" % (rec))\n",
    "print(\"Specificity: %.3f\" % (spe))\n",
    "print(\"Precision: %.3f\" % (pre))"
   ]
  },
  {
   "cell_type": "markdown",
   "metadata": {},
   "source": [
    "#### 6-7: Naive Bayes"
   ]
  },
  {
   "cell_type": "markdown",
   "metadata": {},
   "source": [
    "##### Cross Validation"
   ]
  },
  {
   "cell_type": "code",
   "execution_count": null,
   "metadata": {},
   "outputs": [],
   "source": [
    "from sklearn.naive_bayes import GaussianNB\n",
    "NB = GaussianNB()\n",
    "NB_CV = cross_val_score(NB, X_Resmpl, y_Resmpl, cv=kfold, scoring='roc_auc')\n",
    "results.append(NB_CV)\n",
    "names.append('Naive Bayes')\n",
    "NB_CV.mean()"
   ]
  },
  {
   "cell_type": "markdown",
   "metadata": {},
   "source": [
    "##### Confusion Matrix"
   ]
  },
  {
   "cell_type": "code",
   "execution_count": null,
   "metadata": {},
   "outputs": [],
   "source": [
    "NB.fit(X_Resmpl, y_Resmpl)\n",
    "NB_Predict = NB.predict(X_test)\n",
    "\n",
    "class_names = ['Not_Fraud', 'Fraud']\n",
    "matrix = confusion_matrix(y_test, NB_Predict)\n",
    "dataframe = pd.DataFrame(matrix, index=class_names, columns=class_names)\n",
    "sns.heatmap(dataframe, annot=True, cbar=None, cmap=\"Blues\", fmt = 'g')\n",
    "plt.title(\"Confusion Matrix\"), plt.tight_layout()\n",
    "plt.ylabel(\"True Class\"), plt.xlabel(\"Predicted Class\")\n",
    "plt.show()\n",
    "\n",
    "print(classification_report(y_test, NB_Predict, target_names=class_names))\n",
    "\n",
    "TP=matrix[1,1]\n",
    "TN=matrix[0,0]\n",
    "FP=matrix[0,1]\n",
    "FN=matrix[1,0]\n",
    "acc = (TP+TN)/(TP+FP+TN+FN)\n",
    "rec = TP/(TP+FN)\n",
    "spe = TN/(TN+FP)\n",
    "pre = TP/(TP+FP)\n",
    "\n",
    "print(\"Accuracy: %.3f\" % (acc))\n",
    "print(\"Sensitivity (Recall): %.3f\" % (rec))\n",
    "print(\"Specificity: %.3f\" % (spe))\n",
    "print(\"Precision: %.3f\" % (pre))"
   ]
  },
  {
   "cell_type": "markdown",
   "metadata": {},
   "source": [
    "## Algorithm Comparison"
   ]
  },
  {
   "cell_type": "code",
   "execution_count": null,
   "metadata": {},
   "outputs": [],
   "source": [
    "fig = plt.figure()\n",
    "fig.suptitle('Algorithm Comparison')\n",
    "ax = fig.add_subplot(111)\n",
    "plt.boxplot(results)\n",
    "ax.set_xticklabels(names)\n",
    "plt.show()"
   ]
  },
  {
   "cell_type": "markdown",
   "metadata": {},
   "source": [
    "### A - Unsupervised Learning\n",
    "We can impeliment some methods like scatter matrix to figure out is our that we can solve our problem by using unsopervised methods like Kmeans."
   ]
  },
  {
   "cell_type": "markdown",
   "metadata": {},
   "source": [
    "#### 6-8: K-Means"
   ]
  },
  {
   "cell_type": "code",
   "execution_count": null,
   "metadata": {},
   "outputs": [],
   "source": [
    "from sklearn.cluster import MiniBatchKMeans \n",
    "\n",
    "kmeans = MiniBatchKMeans(n_clusters=10, random_state=0)\n",
    "kmeans.fit(X_Resmpl)"
   ]
  },
  {
   "cell_type": "markdown",
   "metadata": {},
   "source": [
    "#### 6-6: Testing Using Elbow Method"
   ]
  },
  {
   "cell_type": "code",
   "execution_count": null,
   "metadata": {},
   "outputs": [],
   "source": [
    "from sklearn.model_selection import train_test_split\n",
    "clustno = range(1, 10)\n",
    "kmeans = [MiniBatchKMeans(n_clusters=i) for i in clustno] \n",
    "score = [kmeans[i].fit(X_Resmpl).score(X_Resmpl) for i in range(len(kmeans))]\n",
    "plt.plot(clustno, score)\n",
    "plt.xlabel('Number of Clusters')\n",
    "plt.ylabel('Score')\n",
    "plt.title('Elbow Curve');"
   ]
  },
  {
   "cell_type": "code",
   "execution_count": null,
   "metadata": {},
   "outputs": [],
   "source": [
    "kmeans = MiniBatchKMeans(n_clusters=2, random_state=0)\n",
    "kmeans.fit(X_Resmpl)\n",
    "y_pred = kmeans.predict(X_test)\n",
    "X_test_clusters_centers = kmeans.cluster_centers_\n",
    "\n",
    "from sklearn.metrics import accuracy_score\n",
    "print(accuracy_score(y_test, y_pred))"
   ]
  },
  {
   "cell_type": "code",
   "execution_count": null,
   "metadata": {},
   "outputs": [],
   "source": [
    "matrix = confusion_matrix(y_test, y_pred)\n",
    "matrix"
   ]
  },
  {
   "cell_type": "code",
   "execution_count": null,
   "metadata": {},
   "outputs": [],
   "source": [
    "class_names = ['Not_Fraud', 'Fraud']\n",
    "matrix = confusion_matrix(y_test, y_pred)\n",
    "dataframe = pd.DataFrame(matrix, index=class_names, columns=class_names)\n",
    "sns.heatmap(dataframe, annot=True, cbar=None, cmap=\"Blues\", fmt = 'g')\n",
    "plt.title(\"Confusion Matrix\"), plt.tight_layout()\n",
    "plt.ylabel(\"True Class\"), plt.xlabel(\"Predicted Class\")\n",
    "plt.show()\n",
    "\n",
    "print(classification_report(y_test, y_pred, target_names=class_names))"
   ]
  },
  {
   "cell_type": "code",
   "execution_count": null,
   "metadata": {},
   "outputs": [],
   "source": [
    "print(pd.value_counts(pd.Series(y_Resmpl)))\n",
    "print(pd.value_counts(pd.Series(y)))"
   ]
  },
  {
   "cell_type": "code",
   "execution_count": null,
   "metadata": {},
   "outputs": [],
   "source": []
  }
 ],
 "metadata": {
  "kernelspec": {
   "display_name": "Python 3",
   "language": "python",
   "name": "python3"
  },
  "language_info": {
   "codemirror_mode": {
    "name": "ipython",
    "version": 3
   },
   "file_extension": ".py",
   "mimetype": "text/x-python",
   "name": "python",
   "nbconvert_exporter": "python",
   "pygments_lexer": "ipython3",
   "version": "3.6.3"
  }
 },
 "nbformat": 4,
 "nbformat_minor": 2
}
